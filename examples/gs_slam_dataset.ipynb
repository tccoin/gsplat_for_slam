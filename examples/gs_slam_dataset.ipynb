{
 "cells": [
  {
   "cell_type": "code",
   "execution_count": null,
   "metadata": {},
   "outputs": [],
   "source": [
    "%reload_ext autoreload\n",
    "%autoreload 2\n",
    "\n",
    "import numpy as np\n",
    "from datasets.rgbd import Parser, Dataset\n",
    "\n",
    "data_dir = '/run/media/junzhe/SLAM_DATA/data/museum/kitchen_rgbd_pcd/'\n",
    "data_factor = 1\n",
    "\n",
    "parser = Parser(\n",
    "    data_dir=data_dir,\n",
    "    factor=data_factor,\n",
    "    normalize=True,\n",
    "    test_every=10,\n",
    ")\n",
    "\n",
    "\n",
    "dataset = Dataset(parser, split=\"train\", load_depths=True)\n",
    "np.arange(len(parser.image_names))"
   ]
  },
  {
   "cell_type": "code",
   "execution_count": null,
   "metadata": {},
   "outputs": [],
   "source": [
    "!python rgbd_trainer.py \\\n",
    "    --data-dir /run/media/junzhe/SLAM_DATA/data/museum/kitchen_rgbd_pcd/ \\\n",
    "    --dataset rgbd \\\n",
    "    --data-factor 1 \\\n",
    "    --result-dir /run/media/junzhe/SLAM_DATA/data/museum/gsplat/kitchen_rgbd/ \\\n",
    "    --depth-loss"
   ]
  },
  {
   "cell_type": "code",
   "execution_count": null,
   "metadata": {},
   "outputs": [],
   "source": [
    "%reload_ext autoreload\n",
    "%autoreload 2\n",
    "\n",
    "import numpy as np\n",
    "from datasets.slam_dataset import Parser, Dataset\n",
    "\n",
    "data_dir = '/run/media/junzhe/SLAM_DATA/data/tartanair/scenes/soulcity/Easy/P001/'\n",
    "dataset_type = 'tartanair'\n",
    "data_factor = 1\n",
    "\n",
    "parser = Parser(\n",
    "    data_dir=data_dir,\n",
    "    dataset_type=dataset_type,\n",
    "    factor=data_factor,\n",
    "    normalize=True,\n",
    "    test_every=10,\n",
    ")\n",
    "\n",
    "\n",
    "dataset = Dataset(parser, split=\"train\", load_depths=True)"
   ]
  },
  {
   "cell_type": "code",
   "execution_count": null,
   "metadata": {},
   "outputs": [],
   "source": [
    "!python rgbd_trainer.py \\\n",
    "    --data-dir /run/media/junzhe/SLAM_DATA/data/tartanair/scenes/soulcity/Easy/P001/ \\\n",
    "    --dataset tartanair \\\n",
    "    --data-factor 1 \\\n",
    "    --result-dir /run/media/junzhe/SLAM_DATA/data/museum/gsplat/soulcity_with_depth/ \\\n",
    "    --depth-loss"
   ]
  },
  {
   "cell_type": "code",
   "execution_count": null,
   "metadata": {},
   "outputs": [],
   "source": [
    "!python rgbd_trainer.py \\\n",
    "    --data-dir /run/media/junzhe/SLAM_DATA/data/tartanair/scenes/hospital/Easy/P001/ \\\n",
    "    --dataset tartanair \\\n",
    "    --data-factor 1 \\\n",
    "    --result-dir /run/media/junzhe/SLAM_DATA/data/museum/gsplat/hospital_with_depth/ \\\n",
    "    --depth-loss \\\n",
    "    --depth-lambda 0.15 \\\n",
    "    --max-steps 10000 \\\n",
    "    --reset-every 3000"
   ]
  },
  {
   "cell_type": "code",
   "execution_count": null,
   "metadata": {},
   "outputs": [],
   "source": [
    "!python rgbd_trainer.py --help"
   ]
  },
  {
   "cell_type": "code",
   "execution_count": null,
   "metadata": {},
   "outputs": [],
   "source": [
    "%reload_ext autoreload\n",
    "%autoreload 2\n",
    "\n",
    "import numpy as np\n",
    "from datasets.slam_dataset import Parser, Dataset\n",
    "from spatialmath.base import tr2eul\n",
    "\n",
    "data_dir = '/run/media/junzhe/SLAM_DATA/data/tum/rgbd_dataset_freiburg1_room/'\n",
    "dataset_type = 'tum'\n",
    "data_factor = 1\n",
    "\n",
    "parser = Parser(\n",
    "    data_dir=data_dir,\n",
    "    dataset_type=dataset_type,\n",
    "    factor=data_factor,\n",
    "    normalize=True,\n",
    "    test_every=10,\n",
    ")\n",
    "\n",
    "\n",
    "dataset = Dataset(parser, split=\"train\", load_depths=True)"
   ]
  },
  {
   "cell_type": "code",
   "execution_count": null,
   "metadata": {},
   "outputs": [],
   "source": [
    "!python rgbd_trainer.py \\\n",
    "    --data-dir /run/media/junzhe/SLAM_DATA/data/tum/rgbd_dataset_freiburg2_xyz/ \\\n",
    "    --dataset tum \\\n",
    "    --data-factor 1 \\\n",
    "    --result-dir /run/media/junzhe/SLAM_DATA/data/museum/gsplat/kitchen_rgbd/"
   ]
  },
  {
   "cell_type": "code",
   "execution_count": null,
   "metadata": {},
   "outputs": [],
   "source": [
    "! python rgbd_trainer.py --help"
   ]
  },
  {
   "cell_type": "code",
   "execution_count": null,
   "metadata": {},
   "outputs": [],
   "source": [
    "%reload_ext autoreload\n",
    "%autoreload 2\n",
    "\n",
    "from datasets.dataloader import TUMLoader, TartanAirLoader\n",
    "import open3d as o3d\n",
    "import numpy as np\n",
    "\n",
    "data_dir = '/run/media/junzhe/SLAM_DATA/data/tartanair/scenes/hospital/Easy/P001/'\n",
    "slam_dataset = TartanAirLoader(data_dir)\n",
    "\n",
    "# data_dir = '/run/media/junzhe/SLAM_DATA/data/tum/rgbd_dataset_freiburg2_xyz/'\n",
    "# slam_dataset = TUMLoader(data_dir)\n",
    "\n",
    "slam_dataset.load_ground_truth()\n",
    "stacked_pc = o3d.geometry.PointCloud()\n",
    "fx, fy, cx, cy = slam_dataset.camera\n",
    "image_width, image_height = slam_dataset.image_size\n",
    "intrinsic = o3d.camera.PinholeCameraIntrinsic(image_width, image_height, fx, fy, cx, cy)\n",
    "N = 30\n",
    "\n",
    "\n",
    "# conv_T = np.array([\n",
    "#     [0, -1, 0, 0],\n",
    "#     [0, 0, 1, 0],\n",
    "#     [1, 0, 0, 0],\n",
    "#     [0, 0, 0, 1]\n",
    "# ])\n",
    "conv_T = np.array([\n",
    "    [0,0,1,0],\n",
    "    [0,1,0,0],\n",
    "    [-1,0,0,0],\n",
    "    [0,0,0,1]\n",
    "])\n",
    "\n",
    "stacked_pc = o3d.geometry.PointCloud()\n",
    "for i in range(50,150,25):\n",
    "    slam_dataset.set_curr_index(i)\n",
    "    T = slam_dataset.read_current_ground_truth()\n",
    "    print(T.t)\n",
    "    rgb, depth = slam_dataset.read_current_rgbd()\n",
    "    rgb = o3d.geometry.Image(rgb)\n",
    "    depth = o3d.geometry.Image(depth.astype(np.float32))\n",
    "    rgbd = o3d.geometry.RGBDImage.create_from_color_and_depth(rgb, depth, convert_rgb_to_intensity=False, depth_trunc=100, depth_scale=1)\n",
    "    pcd = o3d.geometry.PointCloud.create_from_rgbd_image(rgbd, intrinsic)\n",
    "    pcd = pcd.voxel_down_sample(voxel_size=0.01)\n",
    "    # pcd.transform(conv_T)\n",
    "    pcd.transform(T)\n",
    "    stacked_pc += pcd\n",
    "\n",
    "\n",
    "expected_number = 1e5\n",
    "voxel_size = 0.01\n",
    "while len(stacked_pc.points) > expected_number:\n",
    "    voxel_size *= 1.1\n",
    "    stacked_pc = stacked_pc.voxel_down_sample(voxel_size=voxel_size)\n",
    "print(voxel_size, len(stacked_pc.points))\n",
    "# o3d.visualization.draw_geometries([stacked_pc])"
   ]
  },
  {
   "cell_type": "code",
   "execution_count": null,
   "metadata": {},
   "outputs": [],
   "source": [
    "traj = []\n",
    "for i in range(0,slam_dataset.get_total_number()):\n",
    "    slam_dataset.set_curr_index(i)\n",
    "    T = slam_dataset.read_current_ground_truth()\n",
    "    traj.append(T.t)\n",
    "# plot traj with plotly\n",
    "import plotly.graph_objects as go\n",
    "import numpy as np\n",
    "traj = np.array(traj)\n",
    "\n",
    "# show index when mouse hover\n",
    "text = [f'index: {i}' for i in range(traj.shape[0])]\n",
    "fig = go.Figure(data=[go.Scatter3d(x=traj[:,0], y=traj[:,1], z=traj[:,2], mode='markers', text=text,marker=dict(size=3, color=traj[:,2], colorscale='Viridis', opacity=0.8))])\n",
    "# use same scale for each axis\n",
    "fig.update_layout(scene_aspectmode='cube')\n",
    "fig.show()\n",
    "\n",
    "# x-forward, y-down, z-left"
   ]
  },
  {
   "cell_type": "code",
   "execution_count": null,
   "metadata": {},
   "outputs": [],
   "source": [
    "# visualize stacked_pc in rgb and xyz with plotly\n",
    "import plotly.graph_objects as go\n",
    "fig = go.Figure()\n",
    "rgb = np.asarray(stacked_pc.colors)\n",
    "xyz = np.asarray(stacked_pc.points)\n",
    "fig.add_trace(go.Scatter3d(x=xyz[:,0], y=xyz[:,1], z=xyz[:,2], mode='markers', marker=dict(size=2, color=rgb, opacity=1)))\n",
    "fig.update_layout(width=1000, height=1000)\n",
    "fig.show()"
   ]
  },
  {
   "cell_type": "code",
   "execution_count": null,
   "metadata": {},
   "outputs": [],
   "source": [
    "import open3d as o3d\n",
    "import numpy as np\n",
    "from spatialmath.base import q2r\n",
    "\n",
    "# RGBD dataset\n",
    "traj_file = '/run/media/junzhe/SLAM_DATA/data/museum/kitchen_rgbd_pcd/traj.tum'\n",
    "\n",
    "traj_raw = []\n",
    "with open(traj_file) as f:\n",
    "    for line in f:\n",
    "        traj_raw.append([float(x) for x in line.strip().split()])\n",
    "\n",
    "traj = []\n",
    "for i in range(len(traj_raw)):\n",
    "    traj.append(traj_raw[i][1:4])\n",
    "\n",
    "# plot traj with plotly\n",
    "import plotly.graph_objects as go\n",
    "import numpy as np\n",
    "traj = np.array(traj)\n",
    "\n",
    "# show index when mouse hover\n",
    "text = [f'index: {i}' for i in range(traj.shape[0])]\n",
    "fig = go.Figure(data=[go.Scatter3d(x=traj[:,0], y=traj[:,1], z=traj[:,2], mode='markers', text=text,marker=dict(size=3, color=traj[:,2], colorscale='Viridis', opacity=0.8))])\n",
    "# use same scale for each axis\n",
    "fig.update_layout(scene_aspectmode='cube')\n",
    "fig.show()\n",
    "\n",
    "# x-forward, y-down, z-left"
   ]
  }
 ],
 "metadata": {
  "kernelspec": {
   "display_name": "gs",
   "language": "python",
   "name": "python3"
  },
  "language_info": {
   "codemirror_mode": {
    "name": "ipython",
    "version": 3
   },
   "file_extension": ".py",
   "mimetype": "text/x-python",
   "name": "python",
   "nbconvert_exporter": "python",
   "pygments_lexer": "ipython3",
   "version": "3.10.0"
  }
 },
 "nbformat": 4,
 "nbformat_minor": 2
}
