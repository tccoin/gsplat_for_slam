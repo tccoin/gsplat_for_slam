{
 "cells": [
  {
   "cell_type": "code",
   "execution_count": null,
   "metadata": {},
   "outputs": [],
   "source": [
    "%reload_ext autoreload\n",
    "%autoreload 2\n",
    "\n",
    "import numpy as np\n",
    "from datasets.slam_dataset import Parser, MultipleDataset\n",
    "from spatialmath.base import tr2eul\n",
    "from datasets.dataloader import TartanAirLoader, TUMLoader\n",
    "\n",
    "import tyro\n",
    "from rgbd_trainer import Config, main\n",
    "\n",
    "from plotly_utils import *\n",
    "import plotly.graph_objects as go"
   ]
  },
  {
   "cell_type": "code",
   "execution_count": null,
   "metadata": {},
   "outputs": [],
   "source": [
    "seq_counts = [100,200,300]\n",
    "cumulative_sum = np.cumsum(seq_counts)\n",
    "index = 1000\n",
    "np.searchsorted(cumulative_sum, index, side='right')"
   ]
  },
  {
   "cell_type": "code",
   "execution_count": null,
   "metadata": {},
   "outputs": [],
   "source": [
    "cfg = tyro.cli(Config)\n",
    "cfg.adjust_steps(cfg.steps_scaler)\n",
    "main(cfg)"
   ]
  },
  {
   "cell_type": "code",
   "execution_count": null,
   "metadata": {},
   "outputs": [],
   "source": [
    "dataset_path = '/run/media/junzhe/SLAM_DATA/data/tartanair/scenes/hospital/Easy/'\n",
    "fig = go.Figure()\n",
    "for seq_part_ind in range(36):\n",
    "    dataset = TartanAirLoader(dataset_path+f'P{seq_part_ind:03}')\n",
    "    dataset.load_ground_truth()\n",
    "    traj_label = f'traj_{seq_part_ind}'\n",
    "    plot_traj(fig, dataset, traj_label)\n",
    "fig.update_layout(width=1000, height=1000)\n",
    "fig.update_layout(scene=dict(aspectmode='cube'))\n",
    "fig.show()"
   ]
  },
  {
   "cell_type": "code",
   "execution_count": null,
   "metadata": {},
   "outputs": [],
   "source": [
    "a=6\n",
    "f'{a:03}'"
   ]
  },
  {
   "cell_type": "code",
   "execution_count": null,
   "metadata": {},
   "outputs": [],
   "source": [
    "!python rgbd_trainer.py \\\n",
    "    --data-dir /run/media/junzhe/SLAM_DATA/data/tartanair/scenes/hospital/Easy/P002/ \\\n",
    "    --dataset tartanair \\\n",
    "    --data-factor 1 \\\n",
    "    --result-dir /run/media/junzhe/SLAM_DATA/data/gsplat_output/hospital_with_depth/ \\\n",
    "    --depth-loss \\\n",
    "    --depth-lambda 0.03 \\\n",
    "    --max-steps 10000 \\\n",
    "    --reset-every 4000 \\\n",
    "    --pose-opt  \\"
   ]
  },
  {
   "cell_type": "code",
   "execution_count": null,
   "metadata": {},
   "outputs": [],
   "source": [
    "!python rgbd_trainer.py \\\n",
    "    --data-dir /run/media/junzhe/SLAM_DATA/data/tum/rgbd_dataset_freiburg1_room/ \\\n",
    "    --dataset tum \\\n",
    "    --data-factor 1 \\\n",
    "    --result-dir /run/media/junzhe/SLAM_DATA/data/museum/gsplat_output/kitchen_rgbd/ \\\n",
    "    --depth-loss \\\n",
    "    --depth-lambda 0.03 \\\n",
    "    --max-steps 10000 \\\n",
    "    --reset-every 4000 \\\n",
    "    --pose-opt"
   ]
  }
 ],
 "metadata": {
  "kernelspec": {
   "display_name": "gs",
   "language": "python",
   "name": "python3"
  },
  "language_info": {
   "codemirror_mode": {
    "name": "ipython",
    "version": 3
   },
   "file_extension": ".py",
   "mimetype": "text/x-python",
   "name": "python",
   "nbconvert_exporter": "python",
   "pygments_lexer": "ipython3",
   "version": "3.10.0"
  }
 },
 "nbformat": 4,
 "nbformat_minor": 2
}
